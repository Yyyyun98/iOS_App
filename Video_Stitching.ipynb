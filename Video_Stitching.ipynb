{
 "cells": [
  {
   "cell_type": "markdown",
   "id": "a86801f1-b5fc-485c-828f-0ad1dd86c031",
   "metadata": {},
   "source": [
    "# Video Stitching"
   ]
  },
  {
   "cell_type": "code",
   "execution_count": 2,
   "id": "14771fdc-0d39-4092-a515-18f70e18c45e",
   "metadata": {},
   "outputs": [
    {
     "name": "stdout",
     "output_type": "stream",
     "text": [
      "Requirement already satisfied: opencv-python in /Users/planetyunnn/Library/jupyterlab-desktop/jlab_server/lib/python3.8/site-packages (4.7.0.68)\n",
      "Requirement already satisfied: numpy>=1.17.3 in /Users/planetyunnn/Library/jupyterlab-desktop/jlab_server/lib/python3.8/site-packages (from opencv-python) (1.23.5)\n"
     ]
    }
   ],
   "source": [
    "!pip3 install opencv-python"
   ]
  },
  {
   "cell_type": "code",
   "execution_count": 1,
   "id": "2e8c6ab6-157d-4270-9bd9-84288ce7aae0",
   "metadata": {},
   "outputs": [],
   "source": [
    "import numpy as np\n",
    "import glob\n",
    "import cv2\n",
    "import re\n",
    "import os"
   ]
  },
  {
   "cell_type": "code",
   "execution_count": null,
   "id": "3f45eeaa-ff8f-4412-853c-2d45302c7a63",
   "metadata": {},
   "outputs": [],
   "source": []
  },
  {
   "cell_type": "code",
   "execution_count": 2,
   "id": "cdc82783-96e9-43ec-8471-72c07330501b",
   "metadata": {},
   "outputs": [],
   "source": [
    "# sort all the jpg files by name, put in the right order\n",
    "\n",
    "def jpg_sort(x):\n",
    "    numbers = re.split('_', x)\n",
    "    return numbers[1]"
   ]
  },
  {
   "cell_type": "code",
   "execution_count": 3,
   "id": "c7d52cd6-a43a-49a9-9268-7d4fb3dd424e",
   "metadata": {},
   "outputs": [],
   "source": [
    "img_array = []"
   ]
  },
  {
   "cell_type": "code",
   "execution_count": 4,
   "id": "74e723ca-7ace-4a49-9fa4-fd0dffbb75b3",
   "metadata": {},
   "outputs": [],
   "source": [
    "#fetch all the image file names with glob\n",
    "#read all the images with cvs.imread()\n",
    "#store all the images into a list called img_array\n",
    "\n",
    "for filename in sorted(glob.glob('LiDAR/*.jpg'), key = jpg_sort):\n",
    "    img = cv2.imread(filename)\n",
    "    #height, width, layers = img.shape\n",
    "    size = (770, 900)\n",
    "    resize_img = cv2.resize(img, size)        # resize the image to reduce video size\n",
    "    img_array.append(resize_img)\n"
   ]
  },
  {
   "cell_type": "code",
   "execution_count": 5,
   "id": "3866e486-e03f-4bad-8aa4-b8cc3ba1de8b",
   "metadata": {},
   "outputs": [],
   "source": [
    "# Create a video with cv2\n",
    "\n",
    "out = cv2.VideoWriter(\n",
    "    'video.mp4',cv2.VideoWriter_fourcc(*'mp4v'), 5, size)"
   ]
  },
  {
   "cell_type": "code",
   "execution_count": 6,
   "id": "807c4047-f7fc-4491-83c9-1d57a91f26d1",
   "metadata": {},
   "outputs": [],
   "source": [
    "for i in range(len(img_array)):\n",
    "    out.write(img_array[i])"
   ]
  },
  {
   "cell_type": "code",
   "execution_count": 7,
   "id": "73809f45-45bf-4739-b4e0-a2f086fc39a7",
   "metadata": {},
   "outputs": [],
   "source": [
    "out.release()"
   ]
  },
  {
   "cell_type": "code",
   "execution_count": null,
   "id": "ca8a9d28-005d-4dc0-943e-633bdb828a06",
   "metadata": {},
   "outputs": [],
   "source": []
  },
  {
   "cell_type": "code",
   "execution_count": null,
   "id": "9dd78ba3-f1e8-4c47-b63e-d6eb48dc97dd",
   "metadata": {},
   "outputs": [],
   "source": []
  },
  {
   "cell_type": "code",
   "execution_count": null,
   "id": "2d2f35e0-2faa-497b-ae4f-5e8e783974d7",
   "metadata": {},
   "outputs": [],
   "source": []
  },
  {
   "cell_type": "code",
   "execution_count": null,
   "id": "adfa84ee-dcb6-4391-a940-42a896fe67da",
   "metadata": {},
   "outputs": [],
   "source": []
  },
  {
   "cell_type": "code",
   "execution_count": null,
   "id": "41e9b55c-b548-411a-b58b-d9700065a61d",
   "metadata": {},
   "outputs": [],
   "source": []
  },
  {
   "cell_type": "code",
   "execution_count": null,
   "id": "eacd4f69-3210-41a5-9459-9b2f71bf3aab",
   "metadata": {},
   "outputs": [],
   "source": []
  },
  {
   "cell_type": "code",
   "execution_count": null,
   "id": "70c5a3a3-21be-4bcb-a6f9-b0a1cab96e4a",
   "metadata": {},
   "outputs": [],
   "source": []
  },
  {
   "cell_type": "code",
   "execution_count": null,
   "id": "d30fafee-d492-4963-a084-16a6c61254f0",
   "metadata": {},
   "outputs": [],
   "source": []
  },
  {
   "cell_type": "code",
   "execution_count": null,
   "id": "21e87cdf-bed8-4f12-9742-0edd4a424ca8",
   "metadata": {},
   "outputs": [],
   "source": []
  },
  {
   "cell_type": "code",
   "execution_count": null,
   "id": "fa2d89a3-8548-4b5b-b4c5-ca0e4787d245",
   "metadata": {},
   "outputs": [],
   "source": []
  },
  {
   "cell_type": "code",
   "execution_count": null,
   "id": "12a30627-5a48-42c9-b33d-1e75d334bb55",
   "metadata": {},
   "outputs": [],
   "source": []
  },
  {
   "cell_type": "code",
   "execution_count": null,
   "id": "1d6e0b89-8627-45cb-ab74-98a4f46f32e9",
   "metadata": {},
   "outputs": [],
   "source": []
  },
  {
   "cell_type": "code",
   "execution_count": null,
   "id": "a99f104b-c3a8-432f-b471-dfbebf16d555",
   "metadata": {},
   "outputs": [],
   "source": []
  },
  {
   "cell_type": "code",
   "execution_count": null,
   "id": "7241e9aa-55b9-49c2-af17-d8af94423efb",
   "metadata": {},
   "outputs": [],
   "source": []
  },
  {
   "cell_type": "code",
   "execution_count": null,
   "id": "d27b26b0-479e-48f8-8b04-f1818045cc66",
   "metadata": {},
   "outputs": [],
   "source": []
  },
  {
   "cell_type": "code",
   "execution_count": null,
   "id": "8464959e-c887-4e16-b0c6-fa1b6ca72294",
   "metadata": {},
   "outputs": [],
   "source": []
  },
  {
   "cell_type": "code",
   "execution_count": null,
   "id": "292993b5-8ab0-44a4-b7d9-415abea1db69",
   "metadata": {},
   "outputs": [],
   "source": []
  },
  {
   "cell_type": "code",
   "execution_count": null,
   "id": "b4b8efb3-112e-4c3c-8571-35624eea581c",
   "metadata": {},
   "outputs": [],
   "source": []
  },
  {
   "cell_type": "code",
   "execution_count": null,
   "id": "95cd6b76-ab41-4b9a-b7be-90c89102e0d8",
   "metadata": {},
   "outputs": [],
   "source": []
  },
  {
   "cell_type": "code",
   "execution_count": null,
   "id": "1f22fcae-ba21-4285-a7da-1f0e36e9aee6",
   "metadata": {},
   "outputs": [],
   "source": []
  },
  {
   "cell_type": "code",
   "execution_count": null,
   "id": "f50f9f02-b43b-4f2a-8ff5-e74425a6189b",
   "metadata": {},
   "outputs": [],
   "source": []
  },
  {
   "cell_type": "code",
   "execution_count": null,
   "id": "b2446574-aa3d-4954-867b-28af9c146563",
   "metadata": {},
   "outputs": [],
   "source": []
  },
  {
   "cell_type": "code",
   "execution_count": null,
   "id": "7cb2159a-75af-4f0b-a0cf-e2862eabdf43",
   "metadata": {},
   "outputs": [],
   "source": []
  },
  {
   "cell_type": "code",
   "execution_count": null,
   "id": "049f0739-b609-4eb2-8d48-3520a4aa57e1",
   "metadata": {},
   "outputs": [],
   "source": []
  },
  {
   "cell_type": "code",
   "execution_count": null,
   "id": "96f5377f-66d2-43b9-9be0-4d2658e6e24c",
   "metadata": {},
   "outputs": [],
   "source": []
  },
  {
   "cell_type": "code",
   "execution_count": null,
   "id": "f9718a8d-a9cb-4278-b426-c3b3a3735d41",
   "metadata": {},
   "outputs": [],
   "source": []
  },
  {
   "cell_type": "code",
   "execution_count": null,
   "id": "ff6ec0f9-5b15-4365-a35b-1052e3f1d3a6",
   "metadata": {},
   "outputs": [],
   "source": []
  },
  {
   "cell_type": "code",
   "execution_count": null,
   "id": "8323bd30-6bbb-4f5f-ae8a-8351ea2a4a8f",
   "metadata": {},
   "outputs": [],
   "source": []
  },
  {
   "cell_type": "code",
   "execution_count": null,
   "id": "daa772b7-e6ad-464e-87a2-92c05655d6d0",
   "metadata": {},
   "outputs": [],
   "source": []
  },
  {
   "cell_type": "code",
   "execution_count": null,
   "id": "820aa362-2ed0-4d93-8b29-b2df3ce389ae",
   "metadata": {},
   "outputs": [],
   "source": []
  },
  {
   "cell_type": "code",
   "execution_count": null,
   "id": "913d2059-c1a4-47de-97f9-edce4370c21c",
   "metadata": {},
   "outputs": [],
   "source": []
  },
  {
   "cell_type": "code",
   "execution_count": null,
   "id": "9a70e299-841d-4c0c-bb0d-2fde6d9ba8d3",
   "metadata": {},
   "outputs": [],
   "source": []
  },
  {
   "cell_type": "code",
   "execution_count": null,
   "id": "75f67caa-10bc-41a1-9e7f-a891f1572e19",
   "metadata": {},
   "outputs": [],
   "source": []
  },
  {
   "cell_type": "code",
   "execution_count": null,
   "id": "1d353cae-0654-41e5-b8b5-0a2bb5233db4",
   "metadata": {},
   "outputs": [],
   "source": []
  },
  {
   "cell_type": "code",
   "execution_count": null,
   "id": "ca118fc1-9ee6-4386-95d1-897520448ba9",
   "metadata": {},
   "outputs": [],
   "source": []
  }
 ],
 "metadata": {
  "kernelspec": {
   "display_name": "Python 3 (ipykernel)",
   "language": "python",
   "name": "python3"
  },
  "language_info": {
   "codemirror_mode": {
    "name": "ipython",
    "version": 3
   },
   "file_extension": ".py",
   "mimetype": "text/x-python",
   "name": "python",
   "nbconvert_exporter": "python",
   "pygments_lexer": "ipython3",
   "version": "3.8.15"
  }
 },
 "nbformat": 4,
 "nbformat_minor": 5
}
